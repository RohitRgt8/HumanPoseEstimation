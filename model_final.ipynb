{
 "cells": [
  {
   "cell_type": "code",
   "execution_count": null,
   "id": "a475cd21",
   "metadata": {},
   "outputs": [],
   "source": [
    "#Extracting frames from given video\n",
    "\n",
    "import os\n",
    "import cv2\n",
    "\n",
    "# Set the video path\n",
    "video_path = r\"D:\\IEEE\\project\\Dataset2\\chest_fly_machine_25.mp4\"\n",
    "\n",
    "# Create the 'frames' directory if it doesn't exist\n",
    "frames_dir = r\"D:\\IEEE\\project\\Dataset2\\frames\"\n",
    "if not os.path.exists(frames_dir):\n",
    "    os.mkdir(frames_dir)\n",
    "\n",
    "# Open the video file\n",
    "cap = cv2.VideoCapture(video_path)\n",
    "\n",
    "# Initialize frame counter\n",
    "frame_num = 0\n",
    "\n",
    "# Loop through the video frames\n",
    "while True:\n",
    "    # Read the next frame\n",
    "    ret, frame = cap.read()\n",
    "\n",
    "    # If there are no more frames, exit the loop\n",
    "    if not ret:\n",
    "        break\n",
    "\n",
    "    # Save the frame as an image file\n",
    "    frame_path = os.path.join(frames_dir, f\"frame{frame_num:04}.jpg\")\n",
    "    cv2.imwrite(frame_path, frame)\n",
    "\n",
    "    # Increment the frame counter\n",
    "    frame_num += 1\n",
    "\n",
    "# Release the video capture object\n",
    "cap.release()\n",
    "\n",
    "print(\"Frames extracted successfully!\")"
   ]
  }
 ],
 "metadata": {
  "kernelspec": {
   "display_name": "Python 3 (ipykernel)",
   "language": "python",
   "name": "python3"
  },
  "language_info": {
   "codemirror_mode": {
    "name": "ipython",
    "version": 3
   },
   "file_extension": ".py",
   "mimetype": "text/x-python",
   "name": "python",
   "nbconvert_exporter": "python",
   "pygments_lexer": "ipython3",
   "version": "3.9.12"
  }
 },
 "nbformat": 4,
 "nbformat_minor": 5
}
